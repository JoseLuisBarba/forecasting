{
 "cells": [
  {
   "cell_type": "code",
   "execution_count": 2,
   "metadata": {},
   "outputs": [],
   "source": [
    "import pandas as pd"
   ]
  },
  {
   "cell_type": "code",
   "execution_count": 3,
   "metadata": {},
   "outputs": [],
   "source": [
    "import zipfile\n",
    "import os "
   ]
  },
  {
   "cell_type": "code",
   "execution_count": 5,
   "metadata": {},
   "outputs": [
    {
     "name": "stdout",
     "output_type": "stream",
     "text": [
      "Archivos extraidos en: ./datasets/istanbul_stock_exchange\n"
     ]
    }
   ],
   "source": [
    "zipfile_path = \"./datasets/istanbul+stock+exchange.zip\"\n",
    "extract_dir = \"./datasets/istanbul_stock_exchange\"\n",
    "\n",
    "if not os.path.exists(extract_dir):\n",
    "    os.mkdir(extract_dir)\n",
    "with zipfile.ZipFile(zipfile_path, \"r\") as zip_ref:\n",
    "    zip_ref.extractall(extract_dir)\n",
    "print(f\"Archivos extraidos en: {extract_dir}\")"
   ]
  },
  {
   "cell_type": "code",
   "execution_count": null,
   "metadata": {},
   "outputs": [],
   "source": [
    "%pip install --upgrade openpyxl\n"
   ]
  },
  {
   "cell_type": "code",
   "execution_count": 11,
   "metadata": {},
   "outputs": [
    {
     "name": "stderr",
     "output_type": "stream",
     "text": [
      "c:\\Users\\Admin\\AppData\\Local\\Programs\\Python\\Python312\\Lib\\site-packages\\openpyxl\\worksheet\\_reader.py:329: UserWarning: Unknown extension is not supported and will be removed\n",
      "  warn(msg)\n"
     ]
    }
   ],
   "source": [
    "df = pd.read_excel(os.path.join(extract_dir,\"data_akbilgic.xlsx\"), skiprows=1)"
   ]
  },
  {
   "cell_type": "code",
   "execution_count": 12,
   "metadata": {},
   "outputs": [
    {
     "data": {
      "text/html": [
       "<div>\n",
       "<style scoped>\n",
       "    .dataframe tbody tr th:only-of-type {\n",
       "        vertical-align: middle;\n",
       "    }\n",
       "\n",
       "    .dataframe tbody tr th {\n",
       "        vertical-align: top;\n",
       "    }\n",
       "\n",
       "    .dataframe thead th {\n",
       "        text-align: right;\n",
       "    }\n",
       "</style>\n",
       "<table border=\"1\" class=\"dataframe\">\n",
       "  <thead>\n",
       "    <tr style=\"text-align: right;\">\n",
       "      <th></th>\n",
       "      <th>date</th>\n",
       "      <th>ISE</th>\n",
       "      <th>ISE.1</th>\n",
       "      <th>SP</th>\n",
       "      <th>DAX</th>\n",
       "      <th>FTSE</th>\n",
       "      <th>NIKKEI</th>\n",
       "      <th>BOVESPA</th>\n",
       "      <th>EU</th>\n",
       "      <th>EM</th>\n",
       "    </tr>\n",
       "  </thead>\n",
       "  <tbody>\n",
       "    <tr>\n",
       "      <th>0</th>\n",
       "      <td>2009-01-05</td>\n",
       "      <td>0.035754</td>\n",
       "      <td>0.038376</td>\n",
       "      <td>-0.004679</td>\n",
       "      <td>0.002193</td>\n",
       "      <td>0.003894</td>\n",
       "      <td>0.000000</td>\n",
       "      <td>0.031190</td>\n",
       "      <td>0.012698</td>\n",
       "      <td>0.028524</td>\n",
       "    </tr>\n",
       "    <tr>\n",
       "      <th>1</th>\n",
       "      <td>2009-01-06</td>\n",
       "      <td>0.025426</td>\n",
       "      <td>0.031813</td>\n",
       "      <td>0.007787</td>\n",
       "      <td>0.008455</td>\n",
       "      <td>0.012866</td>\n",
       "      <td>0.004162</td>\n",
       "      <td>0.018920</td>\n",
       "      <td>0.011341</td>\n",
       "      <td>0.008773</td>\n",
       "    </tr>\n",
       "    <tr>\n",
       "      <th>2</th>\n",
       "      <td>2009-01-07</td>\n",
       "      <td>-0.028862</td>\n",
       "      <td>-0.026353</td>\n",
       "      <td>-0.030469</td>\n",
       "      <td>-0.017833</td>\n",
       "      <td>-0.028735</td>\n",
       "      <td>0.017293</td>\n",
       "      <td>-0.035899</td>\n",
       "      <td>-0.017073</td>\n",
       "      <td>-0.020015</td>\n",
       "    </tr>\n",
       "    <tr>\n",
       "      <th>3</th>\n",
       "      <td>2009-01-08</td>\n",
       "      <td>-0.062208</td>\n",
       "      <td>-0.084716</td>\n",
       "      <td>0.003391</td>\n",
       "      <td>-0.011726</td>\n",
       "      <td>-0.000466</td>\n",
       "      <td>-0.040061</td>\n",
       "      <td>0.028283</td>\n",
       "      <td>-0.005561</td>\n",
       "      <td>-0.019424</td>\n",
       "    </tr>\n",
       "    <tr>\n",
       "      <th>4</th>\n",
       "      <td>2009-01-09</td>\n",
       "      <td>0.009860</td>\n",
       "      <td>0.009658</td>\n",
       "      <td>-0.021533</td>\n",
       "      <td>-0.019873</td>\n",
       "      <td>-0.012710</td>\n",
       "      <td>-0.004474</td>\n",
       "      <td>-0.009764</td>\n",
       "      <td>-0.010989</td>\n",
       "      <td>-0.007802</td>\n",
       "    </tr>\n",
       "    <tr>\n",
       "      <th>...</th>\n",
       "      <td>...</td>\n",
       "      <td>...</td>\n",
       "      <td>...</td>\n",
       "      <td>...</td>\n",
       "      <td>...</td>\n",
       "      <td>...</td>\n",
       "      <td>...</td>\n",
       "      <td>...</td>\n",
       "      <td>...</td>\n",
       "      <td>...</td>\n",
       "    </tr>\n",
       "    <tr>\n",
       "      <th>531</th>\n",
       "      <td>2011-02-16</td>\n",
       "      <td>0.008599</td>\n",
       "      <td>0.013400</td>\n",
       "      <td>0.006238</td>\n",
       "      <td>0.001925</td>\n",
       "      <td>0.007952</td>\n",
       "      <td>0.005717</td>\n",
       "      <td>0.018371</td>\n",
       "      <td>0.006975</td>\n",
       "      <td>0.003039</td>\n",
       "    </tr>\n",
       "    <tr>\n",
       "      <th>532</th>\n",
       "      <td>2011-02-17</td>\n",
       "      <td>0.009310</td>\n",
       "      <td>0.015977</td>\n",
       "      <td>0.003071</td>\n",
       "      <td>-0.001186</td>\n",
       "      <td>0.000345</td>\n",
       "      <td>0.002620</td>\n",
       "      <td>0.001686</td>\n",
       "      <td>-0.000581</td>\n",
       "      <td>0.001039</td>\n",
       "    </tr>\n",
       "    <tr>\n",
       "      <th>533</th>\n",
       "      <td>2011-02-18</td>\n",
       "      <td>0.000191</td>\n",
       "      <td>-0.001653</td>\n",
       "      <td>0.001923</td>\n",
       "      <td>0.002872</td>\n",
       "      <td>-0.000723</td>\n",
       "      <td>0.000568</td>\n",
       "      <td>0.005628</td>\n",
       "      <td>0.000572</td>\n",
       "      <td>0.006938</td>\n",
       "    </tr>\n",
       "    <tr>\n",
       "      <th>534</th>\n",
       "      <td>2011-02-21</td>\n",
       "      <td>-0.013069</td>\n",
       "      <td>-0.013706</td>\n",
       "      <td>-0.020742</td>\n",
       "      <td>-0.014239</td>\n",
       "      <td>-0.011275</td>\n",
       "      <td>0.001358</td>\n",
       "      <td>-0.011942</td>\n",
       "      <td>-0.012615</td>\n",
       "      <td>-0.000958</td>\n",
       "    </tr>\n",
       "    <tr>\n",
       "      <th>535</th>\n",
       "      <td>2011-02-22</td>\n",
       "      <td>-0.007246</td>\n",
       "      <td>-0.019442</td>\n",
       "      <td>0.000000</td>\n",
       "      <td>-0.000473</td>\n",
       "      <td>-0.002997</td>\n",
       "      <td>-0.017920</td>\n",
       "      <td>-0.012252</td>\n",
       "      <td>-0.005465</td>\n",
       "      <td>-0.014297</td>\n",
       "    </tr>\n",
       "  </tbody>\n",
       "</table>\n",
       "<p>536 rows × 10 columns</p>\n",
       "</div>"
      ],
      "text/plain": [
       "          date       ISE     ISE.1        SP       DAX      FTSE    NIKKEI  \\\n",
       "0   2009-01-05  0.035754  0.038376 -0.004679  0.002193  0.003894  0.000000   \n",
       "1   2009-01-06  0.025426  0.031813  0.007787  0.008455  0.012866  0.004162   \n",
       "2   2009-01-07 -0.028862 -0.026353 -0.030469 -0.017833 -0.028735  0.017293   \n",
       "3   2009-01-08 -0.062208 -0.084716  0.003391 -0.011726 -0.000466 -0.040061   \n",
       "4   2009-01-09  0.009860  0.009658 -0.021533 -0.019873 -0.012710 -0.004474   \n",
       "..         ...       ...       ...       ...       ...       ...       ...   \n",
       "531 2011-02-16  0.008599  0.013400  0.006238  0.001925  0.007952  0.005717   \n",
       "532 2011-02-17  0.009310  0.015977  0.003071 -0.001186  0.000345  0.002620   \n",
       "533 2011-02-18  0.000191 -0.001653  0.001923  0.002872 -0.000723  0.000568   \n",
       "534 2011-02-21 -0.013069 -0.013706 -0.020742 -0.014239 -0.011275  0.001358   \n",
       "535 2011-02-22 -0.007246 -0.019442  0.000000 -0.000473 -0.002997 -0.017920   \n",
       "\n",
       "      BOVESPA        EU        EM  \n",
       "0    0.031190  0.012698  0.028524  \n",
       "1    0.018920  0.011341  0.008773  \n",
       "2   -0.035899 -0.017073 -0.020015  \n",
       "3    0.028283 -0.005561 -0.019424  \n",
       "4   -0.009764 -0.010989 -0.007802  \n",
       "..        ...       ...       ...  \n",
       "531  0.018371  0.006975  0.003039  \n",
       "532  0.001686 -0.000581  0.001039  \n",
       "533  0.005628  0.000572  0.006938  \n",
       "534 -0.011942 -0.012615 -0.000958  \n",
       "535 -0.012252 -0.005465 -0.014297  \n",
       "\n",
       "[536 rows x 10 columns]"
      ]
     },
     "execution_count": 12,
     "metadata": {},
     "output_type": "execute_result"
    }
   ],
   "source": [
    "df"
   ]
  },
  {
   "cell_type": "code",
   "execution_count": 15,
   "metadata": {},
   "outputs": [
    {
     "data": {
      "text/plain": [
       "'13, April 1987'"
      ]
     },
     "execution_count": 15,
     "metadata": {},
     "output_type": "execute_result"
    }
   ],
   "source": [
    "pd.to_datetime(\"13-4-1987\", dayfirst=True).strftime(%d, %B %Y)"
   ]
  },
  {
   "cell_type": "code",
   "execution_count": 16,
   "metadata": {},
   "outputs": [
    {
     "data": {
      "text/plain": [
       "'01, April 1987'"
      ]
     },
     "execution_count": 16,
     "metadata": {},
     "output_type": "execute_result"
    }
   ],
   "source": [
    "pd.to_datetime(\"4-1-1987\").strftime(\"%d, %B %Y\")"
   ]
  },
  {
   "cell_type": "code",
   "execution_count": 17,
   "metadata": {},
   "outputs": [
    {
     "data": {
      "text/plain": [
       "'04, January 1987'"
      ]
     },
     "execution_count": 17,
     "metadata": {},
     "output_type": "execute_result"
    }
   ],
   "source": [
    "pd.to_datetime(\"4-1-1987\", dayfirst=True).strftime(\"%d, %B %Y\")"
   ]
  },
  {
   "cell_type": "code",
   "execution_count": 18,
   "metadata": {},
   "outputs": [
    {
     "data": {
      "text/plain": [
       "'04, January 1987'"
      ]
     },
     "execution_count": 18,
     "metadata": {},
     "output_type": "execute_result"
    }
   ],
   "source": [
    "pd.to_datetime(\"4|1|1987\", format=\"%d|%m|%Y\").strftime(\"%d, %B %Y\")"
   ]
  },
  {
   "cell_type": "code",
   "execution_count": null,
   "metadata": {},
   "outputs": [],
   "source": []
  }
 ],
 "metadata": {
  "kernelspec": {
   "display_name": "Python 3",
   "language": "python",
   "name": "python3"
  },
  "language_info": {
   "codemirror_mode": {
    "name": "ipython",
    "version": 3
   },
   "file_extension": ".py",
   "mimetype": "text/x-python",
   "name": "python",
   "nbconvert_exporter": "python",
   "pygments_lexer": "ipython3",
   "version": "3.12.1"
  }
 },
 "nbformat": 4,
 "nbformat_minor": 2
}
